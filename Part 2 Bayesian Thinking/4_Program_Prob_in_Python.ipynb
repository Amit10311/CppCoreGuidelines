{
  "nbformat": 4,
  "nbformat_minor": 0,
  "metadata": {
    "colab": {
      "name": "4_Program_Prob_in_Python.ipynb",
      "provenance": [],
      "collapsed_sections": [],
      "mount_file_id": "1qr5Vr268sx96sRq6N1kMVHTCDvCrpJWj",
      "authorship_tag": "ABX9TyPD6cEPBqWOFEsWYo8bDh6l",
      "include_colab_link": true
    },
    "kernelspec": {
      "name": "python3",
      "display_name": "Python 3"
    },
    "language_info": {
      "name": "python"
    }
  },
  "cells": [
    {
      "cell_type": "markdown",
      "metadata": {
        "id": "view-in-github",
        "colab_type": "text"
      },
      "source": [
        "<a href=\"https://colab.research.google.com/github/Amit10311/CppCoreGuidelines/blob/master/Part%202%20Bayesian%20Thinking/4_Program_Prob_in_Python.ipynb\" target=\"_parent\"><img src=\"https://colab.research.google.com/assets/colab-badge.svg\" alt=\"Open In Colab\"/></a>"
      ]
    },
    {
      "cell_type": "code",
      "metadata": {
        "id": "AyS4mIoCud-L"
      },
      "source": [
        "!sudo apt-get install texlive-xetex texlive-fonts-recommended texlive-generic-recommended\n"
      ],
      "execution_count": null,
      "outputs": []
    },
    {
      "cell_type": "code",
      "metadata": {
        "id": "j4NvCx9q11dC"
      },
      "source": [
        "!jupyter nbconvert --to pdf 4_Program_Prob_in_Python.ipynb"
      ],
      "execution_count": null,
      "outputs": []
    },
    {
      "cell_type": "markdown",
      "metadata": {
        "id": "8rti3fQeoixy"
      },
      "source": [
        "# **01. Python Variables**\n"
      ]
    },
    {
      "cell_type": "code",
      "metadata": {
        "id": "4lqR0doDigY1"
      },
      "source": [
        "# Here we assign a value of 0.5 to the variable named p_heads\n",
        "# and then use a print statement.\n",
        "p_heads = 0.75\n",
        "print(\"The probability of heads is\", p_heads)\n",
        "\n",
        "# Here we assign a value to p_tails. This is done by taking the \n",
        "# compli\n",
        "p_tails = 1.0 - p_heads\n",
        "print(\"The probability of tails is\", p_tails)"
      ],
      "execution_count": null,
      "outputs": []
    },
    {
      "cell_type": "markdown",
      "metadata": {
        "id": "BxkCAH4aixwj"
      },
      "source": [
        "# **02. Data Types**\n",
        "\n",
        "* Explore how \n",
        "  1. **Strings**\n",
        "  2. **Numbers**\n",
        "  3. **Booleans**\n",
        " \n",
        " are defined in Python.\n",
        "\n",
        "* Read through the code and try to predict what each cell's output will look like before you run that cell."
      ]
    },
    {
      "cell_type": "code",
      "metadata": {
        "colab": {
          "base_uri": "https://localhost:8080/"
        },
        "id": "U4sFYLnHjQBs",
        "outputId": "003ca249-6750-49b7-ec27-1fb1633494ee"
      },
      "source": [
        "# 1. STRINGS\n",
        "\n",
        "# In this section you define several variables. These are all defined\n",
        "# to be strings. Note that there are several ways to define a string.\n",
        "\n",
        "print(\"STRINGS\")      # Prints the word STRINGS as the output\n",
        "\n",
        "# 1.1 Declaring strings with double quotes\n",
        "my_string_1 = \"hello\"\n",
        "\n",
        "# 1.2 Declaring strings with single quotes\n",
        "my_string_2 = 'world'\n",
        "\n",
        "# Use either three double quotes or three single quotes\n",
        "# note in this case you can have single quotes of either type\n",
        "# inside the string. This is a powerful feature!\n",
        "my_multiline_string = \"\"\"\n",
        "\n",
        "Dear World,\n",
        "\n",
        "Hello. I am a multiline python string.\n",
        "I'm enclosed in triple quotes. I'd write\n",
        "them here, but that would end the string!\n",
        "\n",
        "I know! I'll use a slash as an escape character.\n",
        "\n",
        "Triple quotes look like this: \\\"\\\"\\\" \n",
        "\n",
        "Sincerely,\n",
        "Python\n",
        "\"\"\"\n",
        "\n",
        "newline_character = \"\\n\"\n",
        "print(\"Now run the cell below to see these strings printed!\")"
      ],
      "execution_count": null,
      "outputs": [
        {
          "output_type": "stream",
          "text": [
            "STRINGS\n",
            "Now run the cell below to see these strings printed!\n"
          ],
          "name": "stdout"
        }
      ]
    },
    {
      "cell_type": "code",
      "metadata": {
        "colab": {
          "base_uri": "https://localhost:8080/"
        },
        "id": "D-RnjNkbkHds",
        "outputId": "7334cf34-0694-41b6-e93b-d948e90eccd3"
      },
      "source": [
        "print(my_string_1, my_string_2)\n",
        "\n",
        "print(my_multiline_string)\n",
        "\n",
        "print(newline_character)\n",
        "\n",
        "print(\"-----------\")"
      ],
      "execution_count": null,
      "outputs": [
        {
          "output_type": "stream",
          "text": [
            "hello world\n",
            "\n",
            "\n",
            "Dear World,\n",
            "\n",
            "Hello. I am a multiline python string.\n",
            "I'm enclosed in triple quotes. I'd write\n",
            "them here, but that would end the string!\n",
            "\n",
            "I know! I'll use a slash as an escape character.\n",
            "\n",
            "Triple quotes look like this: \"\"\" \n",
            "\n",
            "Sincerely,\n",
            "Python\n",
            "\n",
            "\n",
            "\n",
            "-----------\n"
          ],
          "name": "stdout"
        }
      ]
    },
    {
      "cell_type": "code",
      "metadata": {
        "colab": {
          "base_uri": "https://localhost:8080/"
        },
        "id": "X1XefcPHkmCh",
        "outputId": "dd05f924-e1a5-47cf-efec-ca8c55abbad3"
      },
      "source": [
        "# 2. NUMBERS \n",
        "print(\"NUMBERS\")\n",
        "my_float    = 0.5\n",
        "my_integer  = 7\n",
        "my_negative = -3.5 \n",
        "my_fraction = 1/2\n",
        "\n",
        "# 3. BOOLEANS\n",
        "# what do you think THIS line of code will assign to the variable\n",
        "# does_half_equal_point_five?\n",
        "\n",
        "does_half_equal_point_five = (my_fraction == my_float)"
      ],
      "execution_count": null,
      "outputs": [
        {
          "output_type": "stream",
          "text": [
            "NUMBERS\n"
          ],
          "name": "stdout"
        }
      ]
    },
    {
      "cell_type": "code",
      "metadata": {
        "colab": {
          "base_uri": "https://localhost:8080/"
        },
        "id": "D8F_x5fckoyJ",
        "outputId": "f6f5d76d-95e0-4683-b227-8f764355f8ec"
      },
      "source": [
        "print(\"The absolute value of\", my_negative, \"is\", abs(my_negative))\n",
        "\n",
        "print(my_integer, \"squared is equal to\", my_integer ** 2)\n",
        "\n",
        "print(\"Does\", my_fraction, \"equal\", my_float, \"?\", does_half_equal_point_five)"
      ],
      "execution_count": null,
      "outputs": [
        {
          "output_type": "stream",
          "text": [
            "The absolute value of -3.5 is 3.5\n",
            "7 squared is equal to 49\n",
            "Does 0.5 equal 0.5 ? True\n"
          ],
          "name": "stdout"
        }
      ]
    },
    {
      "cell_type": "markdown",
      "metadata": {
        "id": "OuI2S5ZulXRh"
      },
      "source": [
        "# **3. Python Control Flow**\n",
        "\n",
        "How the flow of program execution can be controlled using statements like **\n",
        " 1. **if**\n",
        " 2. **elif** \n",
        " 3. **else**"
      ]
    },
    {
      "cell_type": "code",
      "metadata": {
        "colab": {
          "base_uri": "https://localhost:8080/"
        },
        "id": "sBvGDNy1ls9R",
        "outputId": "fd302e4e-f5ef-4ecf-88ca-49c3a7fda67e"
      },
      "source": [
        "Y = 7\n",
        "# Check that 5 < Y and Y < 10\n",
        "\n",
        "if 5 < Y < 10:\n",
        "    print(\"Y is between 5 and 10\")\n",
        "else: \n",
        "    print(\"Y is not between 5 and 10\")"
      ],
      "execution_count": null,
      "outputs": [
        {
          "output_type": "stream",
          "text": [
            "Y is between 5 and 10\n"
          ],
          "name": "stdout"
        }
      ]
    },
    {
      "cell_type": "code",
      "metadata": {
        "colab": {
          "base_uri": "https://localhost:8080/"
        },
        "id": "yZArK2K4l4To",
        "outputId": "a020e404-c49b-4559-b035-66154ba1bb3d"
      },
      "source": [
        "X = 6\n",
        "if X < 5:\n",
        "    print(\"X is a small number\")\n",
        "elif X < 10:\n",
        "    print(\"X is a medium sized number\")\n",
        "else:\n",
        "    print(\"X is a big number\")"
      ],
      "execution_count": null,
      "outputs": [
        {
          "output_type": "stream",
          "text": [
            "X is a medium sized number\n"
          ],
          "name": "stdout"
        }
      ]
    },
    {
      "cell_type": "code",
      "metadata": {
        "colab": {
          "base_uri": "https://localhost:8080/"
        },
        "id": "N_vR5JCSl1ta",
        "outputId": "f8c16184-1adc-43eb-821a-792fb6c447d2"
      },
      "source": [
        "if True:\n",
        "    print(\"True is always True!\")"
      ],
      "execution_count": null,
      "outputs": [
        {
          "output_type": "stream",
          "text": [
            "True is always True!\n"
          ],
          "name": "stdout"
        }
      ]
    },
    {
      "cell_type": "code",
      "metadata": {
        "colab": {
          "base_uri": "https://localhost:8080/"
        },
        "id": "4E52Nkm6mUxJ",
        "outputId": "979f79e7-5a0b-49da-dba3-e468dcb2b063"
      },
      "source": [
        "if False:\n",
        "    print(\"This will never be printed\")\n",
        "else:\n",
        "    print(\"Print else\")"
      ],
      "execution_count": null,
      "outputs": [
        {
          "output_type": "stream",
          "text": [
            "Print else\n"
          ],
          "name": "stdout"
        }
      ]
    },
    {
      "cell_type": "markdown",
      "metadata": {
        "id": "GSlZuo7gnTvw"
      },
      "source": [
        "# **4. For Loops**\n",
        "\n",
        "* The code below demonstrates two ways of looping through the numbers 0,1,2,3,4,5"
      ]
    },
    {
      "cell_type": "code",
      "metadata": {
        "colab": {
          "base_uri": "https://localhost:8080/"
        },
        "id": "cdgG8GzMnvfX",
        "outputId": "9450c2fd-23ac-4b0e-a27b-6c637c200529"
      },
      "source": [
        "print(\"1 - demonstrating for loop\")\n",
        "# Python allows you loop over a list\n",
        "\n",
        "for i in [0,1,2,3,4,5]:\n",
        "    print(i)"
      ],
      "execution_count": null,
      "outputs": [
        {
          "output_type": "stream",
          "text": [
            "1 - demonstrating for loop\n",
            "0\n",
            "1\n",
            "2\n",
            "3\n",
            "4\n",
            "5\n"
          ],
          "name": "stdout"
        }
      ]
    },
    {
      "cell_type": "code",
      "metadata": {
        "colab": {
          "base_uri": "https://localhost:8080/"
        },
        "id": "zNdEqtvfn47X",
        "outputId": "d78ad386-cf43-466e-8587-43b1931e20bd"
      },
      "source": [
        "print(\"2 - demonstrating for loop with range()\")\n",
        "# If you want to loop until a specified number, use range(number)\n",
        "\n",
        "for i in range(6):\n",
        "    print(i)"
      ],
      "execution_count": null,
      "outputs": [
        {
          "output_type": "stream",
          "text": [
            "2 - demonstrating for loop with range()\n",
            "0\n",
            "1\n",
            "2\n",
            "3\n",
            "4\n",
            "5\n"
          ],
          "name": "stdout"
        }
      ]
    },
    {
      "cell_type": "markdown",
      "metadata": {
        "id": "2Qgxid8jn-uH"
      },
      "source": [
        "## **The range function**\n",
        "The **`range`** function is one you'll probably use a lot - often in conjunction with a for loop. \n",
        "* The code below shows how you can use the range function to print out a multiplication table.\n",
        "\n",
        "* Read through the code below. What is the biggest number you expect to see printed?"
      ]
    },
    {
      "cell_type": "code",
      "metadata": {
        "colab": {
          "base_uri": "https://localhost:8080/"
        },
        "id": "7mzNOyCLoeU4",
        "outputId": "f2266423-d871-45ce-b0cf-719417f8c662"
      },
      "source": [
        "# This is an example of a nested loop\n",
        "# Nested loops are loops inside of loops\n",
        "# the left_num will increment slower than the right_num\n",
        "\n",
        "# How many times will right_num perform full loops? 25 times \n",
        "\n",
        "for left_num in range(3):\n",
        "    for right_num in range(4):\n",
        "        product = left_num * right_num\n",
        "        print(left_num, \"x\", right_num, \"=\", product)"
      ],
      "execution_count": null,
      "outputs": [
        {
          "output_type": "stream",
          "text": [
            "0 x 0 = 0\n",
            "0 x 1 = 0\n",
            "0 x 2 = 0\n",
            "0 x 3 = 0\n",
            "1 x 0 = 0\n",
            "1 x 1 = 1\n",
            "1 x 2 = 2\n",
            "1 x 3 = 3\n",
            "2 x 0 = 0\n",
            "2 x 1 = 2\n",
            "2 x 2 = 4\n",
            "2 x 3 = 6\n"
          ],
          "name": "stdout"
        }
      ]
    },
    {
      "cell_type": "markdown",
      "metadata": {
        "id": "Vh6l1BmEofDn"
      },
      "source": [
        "# **05. Lists and Loops**"
      ]
    },
    {
      "cell_type": "markdown",
      "metadata": {
        "id": "VRKRExM7qPOF"
      },
      "source": [
        "* Shows some ways of using python **lists** (known as **arrays** in many languages).\n",
        "* Note how these lists are \"sliced\" from index i to j using my_list **`[i:j]`** notation"
      ]
    },
    {
      "cell_type": "markdown",
      "metadata": {
        "id": "YdZgwoeqSR1X"
      },
      "source": [
        "## **5.1. How to print a list structure**\n"
      ]
    },
    {
      "cell_type": "code",
      "metadata": {
        "colab": {
          "base_uri": "https://localhost:8080/"
        },
        "id": "cz1jBEM8qwXt",
        "outputId": "84306be8-ed3b-41bf-ee2a-22d56acfffd4"
      },
      "source": [
        "my_list = [1, 2, 3, \"a\", \"b\", \"c\"]\n",
        "\n",
        "print(\"my_list is:\", my_list)\n"
      ],
      "execution_count": 9,
      "outputs": [
        {
          "output_type": "stream",
          "text": [
            "my_list is: [1, 2, 3, 'a', 'b', 'c']\n"
          ],
          "name": "stdout"
        }
      ]
    },
    {
      "cell_type": "markdown",
      "metadata": {
        "id": "3Q3bWUQ3SXX_"
      },
      "source": [
        "## **5.2. Prints each element of a list individually**"
      ]
    },
    {
      "cell_type": "code",
      "metadata": {
        "colab": {
          "base_uri": "https://localhost:8080/"
        },
        "id": "EgeHWSgdq1X8",
        "outputId": "2ff6a4c5-defe-4506-c5aa-c859ad62de3a"
      },
      "source": [
        "print(\"Looping through a list...\")\n",
        "for item in my_list:\n",
        "    print(\"item is\", item)\n",
        "    "
      ],
      "execution_count": null,
      "outputs": [
        {
          "output_type": "stream",
          "text": [
            "Looping through a list...\n",
            "item is 1\n",
            "item is 2\n",
            "item is 3\n",
            "item is a\n",
            "item is b\n",
            "item is c\n"
          ],
          "name": "stdout"
        }
      ]
    },
    {
      "cell_type": "markdown",
      "metadata": {
        "id": "EbeUXxMDSeiO"
      },
      "source": [
        "## 5.3. Prints the number of elements in a list\n"
      ]
    },
    {
      "cell_type": "code",
      "metadata": {
        "id": "TuUBbOm7rd1d",
        "colab": {
          "base_uri": "https://localhost:8080/"
        },
        "outputId": "9a225c03-fe0b-409d-f9b5-36541ad9994d"
      },
      "source": [
        "print(\"The len function is important!\")\n",
        "\n",
        "num_elements = len(my_list)\n",
        "print(\"my_list has\", num_elements, \"elements \\n\")\n",
        "\n",
        "# 2. Could also be done with out the intermediate variable\n",
        "\n",
        "print(\"The len function is important!\")\n",
        "print(\"my_list has\", len(my_list), \"elements\")"
      ],
      "execution_count": 10,
      "outputs": [
        {
          "output_type": "stream",
          "text": [
            "The len function is important!\n",
            "my_list has 6 elements \n",
            "\n",
            "The len function is important!\n",
            "my_list has 6 elements\n"
          ],
          "name": "stdout"
        }
      ]
    },
    {
      "cell_type": "markdown",
      "metadata": {
        "id": "gk6jFy-hSM2H"
      },
      "source": [
        "## **5.4. Using range to loop through a list by index**"
      ]
    },
    {
      "cell_type": "code",
      "metadata": {
        "colab": {
          "base_uri": "https://localhost:8080/"
        },
        "id": "VWZJcAlYSLmQ",
        "outputId": "c34665a8-aafb-4456-bda5-3684ecca8855"
      },
      "source": [
        "print(\"A less great way to loop through a list... \\n\")\n",
        "\n",
        "for index in range(len(my_list)):\n",
        "    item = my_list[index] # accessing an element in a list!   \n",
        "\n",
        "    print(\"item is\", item)"
      ],
      "execution_count": 11,
      "outputs": [
        {
          "output_type": "stream",
          "text": [
            "A less great way to loop through a list... \n",
            "\n",
            "item is 1\n",
            "item is 2\n",
            "item is 3\n",
            "item is a\n",
            "item is b\n",
            "item is c\n"
          ],
          "name": "stdout"
        }
      ]
    },
    {
      "cell_type": "markdown",
      "metadata": {
        "id": "kQ-3ILK1S-dO"
      },
      "source": [
        "## **5.5. Looping through a partial list**\n"
      ]
    },
    {
      "cell_type": "code",
      "metadata": {
        "colab": {
          "base_uri": "https://localhost:8080/"
        },
        "id": "qqY90cvXS91I",
        "outputId": "d9320847-bbf8-48e2-c8c5-1d73c37bc0dc"
      },
      "source": [
        "print(\"Slicing a list from beginning... \\n \")\n",
        "\n",
        "for item in my_list[:3]:\n",
        "    print(\"item is\", item)"
      ],
      "execution_count": 12,
      "outputs": [
        {
          "output_type": "stream",
          "text": [
            "Slicing a list from beginning... \n",
            " \n",
            "item is 1\n",
            "item is 2\n",
            "item is 3\n"
          ],
          "name": "stdout"
        }
      ]
    },
    {
      "cell_type": "code",
      "metadata": {
        "colab": {
          "base_uri": "https://localhost:8080/"
        },
        "id": "4CKgiY34TbTu",
        "outputId": "d982431d-e2d3-49db-ccd8-25c47ca333b0"
      },
      "source": [
        "# 2. Looping through a partial list again\n",
        "\n",
        "print(\"Slicing a list to the end... \\n \")\n",
        "\n",
        "for item in my_list[3:]:\n",
        "    print(\"item is\", item)"
      ],
      "execution_count": 13,
      "outputs": [
        {
          "output_type": "stream",
          "text": [
            "Slicing a list to the end... \n",
            " \n",
            "item is a\n",
            "item is b\n",
            "item is c\n"
          ],
          "name": "stdout"
        }
      ]
    },
    {
      "cell_type": "code",
      "metadata": {
        "colab": {
          "base_uri": "https://localhost:8080/"
        },
        "id": "Qu5UpRHzToNW",
        "outputId": "8cde9052-85a2-44a1-99b0-0ceb8fd55757"
      },
      "source": [
        "# 3. Looping through a partial list again\n",
        "\n",
        "print(\"Slicing a list in the middle... \\n\")\n",
        "\n",
        "for item in my_list[2:4]:\n",
        "    print(\"item is\", item)"
      ],
      "execution_count": 14,
      "outputs": [
        {
          "output_type": "stream",
          "text": [
            "Slicing a list in the middle... \n",
            "\n",
            "item is 3\n",
            "item is a\n"
          ],
          "name": "stdout"
        }
      ]
    },
    {
      "cell_type": "markdown",
      "metadata": {
        "id": "rSET3Iw-UgbG"
      },
      "source": [
        "## **5.6. Enumerating a list...**\n"
      ]
    },
    {
      "cell_type": "code",
      "metadata": {
        "colab": {
          "base_uri": "https://localhost:8080/"
        },
        "id": "Nys1-AaEUgh1",
        "outputId": "b7b46b0c-d71d-49bb-cab5-c55cff059989"
      },
      "source": [
        "print(\"Enumerating a list... \\n\")\n",
        "\n",
        "for i, item in enumerate(my_list):\n",
        "  \n",
        "    print(\"item number\", i, \"is\", item)"
      ],
      "execution_count": 17,
      "outputs": [
        {
          "output_type": "stream",
          "text": [
            "Enumerating a list... \n",
            "\n",
            "item number 0 is 1\n",
            "item number 1 is 2\n",
            "item number 2 is 3\n",
            "item number 3 is a\n",
            "item number 4 is b\n",
            "item number 5 is c\n"
          ],
          "name": "stdout"
        }
      ]
    },
    {
      "cell_type": "code",
      "metadata": {
        "colab": {
          "base_uri": "https://localhost:8080/"
        },
        "id": "fAc8FDu4U9qF",
        "outputId": "359f19c4-d34f-4b89-db52-1c355d90a316"
      },
      "source": [
        "print(\"Another way to enumerate using a list 'method'... \\n \")\n",
        "\n",
        "for item in my_list:\n",
        "    index = my_list.index(item)\n",
        "    \n",
        "    print(\"item\", item, \"has index\", index)"
      ],
      "execution_count": 31,
      "outputs": [
        {
          "output_type": "stream",
          "text": [
            "Another way to enumerate using a list 'method'... \n",
            " \n",
            "item 1 has index 0\n",
            "item 2 has index 1\n",
            "item 3 has index 2\n",
            "item a has index 3\n",
            "item b has index 4\n",
            "item c has index 5\n"
          ],
          "name": "stdout"
        }
      ]
    },
    {
      "cell_type": "code",
      "metadata": {
        "id": "cegxU_d0VNyU"
      },
      "source": [
        "my_list.reverse()\n",
        "my_list.sort()\n",
        "my_list.count()"
      ],
      "execution_count": 30,
      "outputs": []
    },
    {
      "cell_type": "markdown",
      "metadata": {
        "id": "e57MgoEGVuC9"
      },
      "source": [
        "# **06. List Comprehensions**"
      ]
    },
    {
      "cell_type": "markdown",
      "metadata": {
        "id": "ezx__XRfWlCj"
      },
      "source": [
        "## **1. The preferred 'pythonic' way to create a list**"
      ]
    },
    {
      "cell_type": "code",
      "metadata": {
        "colab": {
          "base_uri": "https://localhost:8080/"
        },
        "id": "6ugjJbk7WFpR",
        "outputId": "18e453b2-76ea-40d5-c4ae-4a6b678a7457"
      },
      "source": [
        "Numbers_0_to_9 = [x for x in range(10)]\n",
        "\n",
        "print(\"Numbers 0 to 9 :\", numbers_0_to_9)"
      ],
      "execution_count": 34,
      "outputs": [
        {
          "output_type": "stream",
          "text": [
            "Numbers 0 to 9 : [0, 1, 2, 3, 4, 5, 6, 7, 8, 9]\n"
          ],
          "name": "stdout"
        }
      ]
    },
    {
      "cell_type": "code",
      "metadata": {
        "colab": {
          "base_uri": "https://localhost:8080/"
        },
        "id": "yr-0ftuaWNmu",
        "outputId": "4675e925-489b-471e-aeef-c80ac005ed77"
      },
      "source": [
        "# 2. The above is equivalent to the following just more compact:\n",
        "\n",
        "numbers_0_to_9 = []\n",
        "for x in range(10):\n",
        "    numbers_0_to_9.append(x)\n",
        "    \n",
        "print(\"Numbers 0 to 9\", numbers_0_to_9)"
      ],
      "execution_count": 35,
      "outputs": [
        {
          "output_type": "stream",
          "text": [
            "Numbers 0 to 9 [0, 1, 2, 3, 4, 5, 6, 7, 8, 9]\n"
          ],
          "name": "stdout"
        }
      ]
    },
    {
      "cell_type": "markdown",
      "metadata": {
        "id": "zhdxoj09WejE"
      },
      "source": [
        "## **3. You can also choose to do computation / flow control when generating**\n"
      ]
    },
    {
      "cell_type": "code",
      "metadata": {
        "colab": {
          "base_uri": "https://localhost:8080/"
        },
        "id": "g6FVCqrhWdB0",
        "outputId": "fbe91c7a-917d-4964-b24d-de88db905fe8"
      },
      "source": [
        "# lists\n",
        "\n",
        "squares = [x * x for x in range(10)]\n",
        "\n",
        "print(\"Squares    :   \", squares)"
      ],
      "execution_count": 36,
      "outputs": [
        {
          "output_type": "stream",
          "text": [
            "Squares    :    [0, 1, 4, 9, 16, 25, 36, 49, 64, 81]\n"
          ],
          "name": "stdout"
        }
      ]
    },
    {
      "cell_type": "code",
      "metadata": {
        "colab": {
          "base_uri": "https://localhost:8080/"
        },
        "id": "EhUO0Mt1W1I8",
        "outputId": "a42044f5-1acc-42e3-d8ad-6550af37d33c"
      },
      "source": [
        "# 4. note - this example uses the \"modulo\" operator\n",
        "\n",
        "odds = [x for x in range(10) if x % 2 == 1]\n",
        "\n",
        "print(\"Odds          \", odds)"
      ],
      "execution_count": 37,
      "outputs": [
        {
          "output_type": "stream",
          "text": [
            "Odds           [1, 3, 5, 7, 9]\n"
          ],
          "name": "stdout"
        }
      ]
    },
    {
      "cell_type": "markdown",
      "metadata": {
        "id": "q3J-Zw8RW8MU"
      },
      "source": [
        "## **6.2 Advanced List Comprehensions**\n",
        "\n",
        "This example also uses a data type called a **`namedtuple`** which is similar to a **`struct`** data type in other languages. "
      ]
    },
    {
      "cell_type": "code",
      "metadata": {
        "colab": {
          "base_uri": "https://localhost:8080/"
        },
        "id": "IEY6h8lvXZdL",
        "outputId": "4858a7be-68ca-4405-fb55-2459d39f9cb2"
      },
      "source": [
        "# Import the module collections and be able to access namedtuple\n",
        "# wihtout having to write collections.namedtuple each time.\n",
        "\n",
        "from collections import namedtuple\n",
        "\n",
        "# Create a tuple of class 'Person'\n",
        "Person = namedtuple(\"Person\", [\"name\", \"age\", \"gender\"])\n",
        "\n",
        "# Build a list of people by using Person\n",
        "people = [\n",
        "    Person(\"Andy\", 30, \"m\"),\n",
        "    Person(\"Ping\", 1, \"m\"), \n",
        "    Person(\"Tina\", 32, \"f\"),\n",
        "    Person(\"Abby\", 14, \"f\"),\n",
        "    Person(\"Adah\", 13, \"f\"),\n",
        "    Person(\"Sebastian\", 42, \"m\"),\n",
        "    Person(\"Carol\" , 68, \"f\"),\n",
        "]\n",
        "\n",
        "# first, let's show how this namedtuple works.\n",
        "# Get the first entry in the list (which is Andy from above)\n",
        "andy = people[0]\n",
        "\n",
        "# From here, you can access andy like it was a class with attributes\n",
        "# name, age, and gender (as seeon from the namedtuple)\n",
        "print(\" name:  \", andy.name)\n",
        "print(\"\\n age:   \", andy.age)\n",
        "print(\"\\n gender:\", andy.gender)"
      ],
      "execution_count": 41,
      "outputs": [
        {
          "output_type": "stream",
          "text": [
            " name:   Andy\n",
            "\n",
            " age:    30\n",
            "\n",
            " gender: m\n"
          ],
          "name": "stdout"
        }
      ]
    },
    {
      "cell_type": "code",
      "metadata": {
        "colab": {
          "base_uri": "https://localhost:8080/"
        },
        "id": "g7cqgepJXpJC",
        "outputId": "f887f7b2-46cb-40fd-8c9a-3d7ca36e3aaf"
      },
      "source": [
        "# 1. now let's show what we can do with a list comprehension\n",
        "\n",
        "male_names = [person.name for person in people if person.gender==\"m\"]\n",
        "\n",
        "print(\"Male names:\", male_names)"
      ],
      "execution_count": 43,
      "outputs": [
        {
          "output_type": "stream",
          "text": [
            "Male names: ['Andy', 'Ping', 'Sebastian']\n"
          ],
          "name": "stdout"
        }
      ]
    },
    {
      "cell_type": "code",
      "metadata": {
        "colab": {
          "base_uri": "https://localhost:8080/"
        },
        "id": "jCM7rQ3QXvvj",
        "outputId": "a3f094f6-2007-48cf-fd1f-3b04cf1f5e74"
      },
      "source": [
        "# 2. Create a list of names where there age \n",
        "\n",
        "teen_names = [p.name for p in people if 13 <= p.age <= 18 ]\n",
        "\n",
        "print(\"Teen names:\", teen_names)"
      ],
      "execution_count": 44,
      "outputs": [
        {
          "output_type": "stream",
          "text": [
            "Teen names: ['Abby', 'Adah']\n"
          ],
          "name": "stdout"
        }
      ]
    }
  ]
}